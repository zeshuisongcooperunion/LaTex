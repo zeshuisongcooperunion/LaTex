{
 "cells": [
  {
   "cell_type": "code",
   "execution_count": 3,
   "id": "aabd56f6",
   "metadata": {},
   "outputs": [],
   "source": [
    "import numpy as np\n",
    "import matplotlib.pyplot as plt"
   ]
  },
  {
   "cell_type": "code",
   "execution_count": 4,
   "id": "36fcf3ed",
   "metadata": {},
   "outputs": [],
   "source": [
    "Petri_Thickness = 2.185833333#mm\n",
    "Petri_Thickness_Error = 0.005#mm\n",
    "RingDia_wo_Liquid = 7.66#mm\n",
    "RingDia_wo_Liquid_Error = 0.054893837#mm\n",
    "RingDia_w_Liquid = 15.84#mm\n",
    "RingDia_w_Liquid_Error = 0.148772757#mm\n"
   ]
  },
  {
   "cell_type": "markdown",
   "id": "dd8eb90b",
   "metadata": {},
   "source": [
    "# Pfund's Method"
   ]
  },
  {
   "cell_type": "code",
   "execution_count": 5,
   "id": "342dd939",
   "metadata": {},
   "outputs": [
    {
     "name": "stdout",
     "output_type": "stream",
     "text": [
      "Index of Refraction of Glass:  1.5175165056638327  +/-  0.008116474395772903\n",
      "A = -0.006152589324897471\n",
      "B = 0.0019638850708754312\n"
     ]
    }
   ],
   "source": [
    "d = RingDia_wo_Liquid\n",
    "t=Petri_Thickness\n",
    "Dd = RingDia_wo_Liquid_Error\n",
    "Dt = Petri_Thickness_Error\n",
    "\n",
    "n_glass = np.sqrt(d**2 + 16*t**2) / d\n",
    "\n",
    "A = (-16*t**2) / (d**2 * np.sqrt(d**2 + 16*t**2)) * Dd\n",
    "B = (16*t) / (d * np.sqrt(d**2 + 16*t**2)) * Dt\n",
    "Dn_glass = np.abs(A) +np.abs(B)\n",
    "print(\"Index of Refraction of Glass: \", n_glass, \" +/- \", Dn_glass)\n",
    "print(\"A =\", A)\n",
    "print(\"B =\", B)"
   ]
  },
  {
   "cell_type": "code",
   "execution_count": 6,
   "id": "083ac26e",
   "metadata": {},
   "outputs": [
    {
     "name": "stdout",
     "output_type": "stream",
     "text": [
      "Index of Refraction of Liquid:  1.3285608418493569  +/-  0.008890740256812163\n",
      "A = 0.007105840375277966\n",
      "B = 0.001075200913818256\n",
      "C = -0.0007096989677159398\n"
     ]
    }
   ],
   "source": [
    "dl = RingDia_w_Liquid\n",
    "Ddl = RingDia_w_Liquid_Error\n",
    "\n",
    "n_liquid = (n_glass * dl) / np.sqrt(dl**2 + 16*t**2)\n",
    "\n",
    "A = (dl / np.sqrt(dl**2 + 16*t**2)) * Dn_glass\n",
    "B = (16 * t**2 * n_glass / (dl**2 + 16*t**2)**(3/2)) * Dd\n",
    "C = (-16 * t * dl * n_glass / (dl**2 + 16*t**2)**(3/2)) * Dt\n",
    "\n",
    "Dn_liquid = np.abs(A)+np.abs(B)+np.abs(C)\n",
    "print(\"Index of Refraction of Liquid: \", n_liquid, \" +/- \", Dn_liquid)\n",
    "print(\"A =\", A)\n",
    "print(\"B =\", B)\n",
    "print(\"C =\", C)"
   ]
  },
  {
   "cell_type": "markdown",
   "id": "ab922eb6",
   "metadata": {},
   "source": [
    "# Snell's Law"
   ]
  },
  {
   "cell_type": "code",
   "execution_count": 7,
   "id": "8be9bdb4",
   "metadata": {},
   "outputs": [],
   "source": [
    "q1= np.deg2rad([48,54,33]) #rad\n",
    "q2= np.deg2rad([33,33,25]) #rad\n",
    "q3= np.deg2rad([35,33,23]) #rad #rad\n",
    "q4= np.deg2rad([45,34,32]) #rad\n",
    "q_error = np.deg2rad(0.5) #rad"
   ]
  },
  {
   "cell_type": "code",
   "execution_count": 8,
   "id": "a1599654",
   "metadata": {},
   "outputs": [
    {
     "name": "stdout",
     "output_type": "stream",
     "text": [
      "Index of Refraction of Liquid from q1 and q2:  [1.36447221 1.48541868 1.28872575]\n",
      "Error from Snell's Law:  [0.02905693 0.02937881 0.04143538]\n"
     ]
    }
   ],
   "source": [
    "# With q1 and q2\n",
    "n_liquid_1 = (np.sin(q1)) / (np.sin(q2))\n",
    "print(\"Index of Refraction of Liquid from q1 and q2: \", n_liquid_1)\n",
    "error_snell = np.abs((np.cos(q1)/np.sin(q2))*q_error) + np.abs((-np.sin(q1)*np.cos(q2)/np.sin(q2)**2)*q_error)\n",
    "print(\"Error from Snell's Law: \", error_snell)"
   ]
  },
  {
   "cell_type": "code",
   "execution_count": 9,
   "id": "fd9b6a9c",
   "metadata": {},
   "outputs": [
    {
     "name": "stdout",
     "output_type": "stream",
     "text": [
      "Index of Refraction of Liquid from q3 and q4:  [1.23280305 1.02672204 1.35622485]\n",
      "Error from Snell's Law:  [0.02612259 0.02708045 0.04682264]\n"
     ]
    }
   ],
   "source": [
    "#With q3 and q4\n",
    "n_liquid_2 = (np.sin(q4)) / (np.sin(q3))\n",
    "print(\"Index of Refraction of Liquid from q3 and q4: \", n_liquid_2)\n",
    "error_snell_2 = np.abs((np.cos(q4)/np.sin(q3))*q_error) + np.abs((-np.sin(q4)*np.cos(q3)/np.sin(q3)**2)*q_error)\n",
    "print(\"Error from Snell's Law: \", error_snell_2)    \n"
   ]
  },
  {
   "cell_type": "code",
   "execution_count": 10,
   "id": "3e09ad73",
   "metadata": {},
   "outputs": [
    {
     "name": "stdout",
     "output_type": "stream",
     "text": [
      "Average Index of Refraction of Liquid from Snell's Law:  1.2923944283678774\n",
      "SDOM of Index of Refraction of Liquid from Snell's Law:  0.06342299670931058\n"
     ]
    }
   ],
   "source": [
    "#Average and SDOM\n",
    "n_liquid_all = np.concatenate((n_liquid_1, n_liquid_2))\n",
    "n_liquid_avg = np.mean(n_liquid_all)\n",
    "n_liquid_sdom = np.std(n_liquid_all, ddof=1) / np.sqrt(len(n_liquid_all))\n",
    "print(\"Average Index of Refraction of Liquid from Snell's Law: \", n_liquid_avg)\n",
    "print(\"SDOM of Index of Refraction of Liquid from Snell's Law: \", n_liquid_sdom)"
   ]
  },
  {
   "cell_type": "code",
   "execution_count": 17,
   "id": "88b73199",
   "metadata": {},
   "outputs": [
    {
     "data": {
      "image/png": "[encoded data removed]",
      "text/plain": [
       "<Figure size 1000x200 with 1 Axes>"
      ]
     },
     "metadata": {},
     "output_type": "display_data"
    }
   ],
   "source": [
    "# Create the plot\n",
    "fig, ax = plt.subplots(figsize=(10, 2))\n",
    "\n",
    "# Create number line\n",
    "ax.axhline(y=0, color='black', linewidth=0.8)\n",
    "ax.set_xlim(1.22,1.36)\n",
    "ax.set_ylim(-0.75, 0.75)  # Extended y-limit to accommodate vertical lines\n",
    "\n",
    "# Remove y-axis\n",
    "ax.yaxis.set_visible(False)\n",
    "\n",
    "# Set x-axis label if needed\n",
    "ax.set_xlabel('Index of Refraction')\n",
    "\n",
    "# Height of vertical error bar caps\n",
    "err_height = 0.3\n",
    "y_pos = 0\n",
    "# Pfund Method\n",
    "value = n_liquid\n",
    "error = Dn_liquid\n",
    "ax.plot([value - error, value + error], [y_pos, y_pos],color='blue')\n",
    "ax.plot([value - error, value - error], [y_pos - err_height, y_pos + err_height],color='blue')\n",
    "ax.plot([value + error, value + error], [y_pos - err_height, y_pos + err_height],color='blue')\n",
    "ax.plot(value, y_pos, marker='s', color='blue',label=\"Pfund's Method\")\n",
    "\n",
    "# Snell\n",
    "value = n_liquid_avg\n",
    "error = n_liquid_sdom\n",
    "ax.plot([value - error, value + error], [y_pos, y_pos],color='green')\n",
    "ax.plot([value - error, value - error], [y_pos - err_height, y_pos + err_height],color='green')\n",
    "ax.plot([value + error, value + error], [y_pos - err_height, y_pos + err_height],color='green')\n",
    "ax.plot(value, y_pos, marker='o', color='green',label=\"Snell's Law\")\n",
    "\n",
    "# Actual value\n",
    "value = 1.33\n",
    "ax.plot([value, value], [y_pos - .5, y_pos + .5],color='red')\n",
    "ax.plot(value, y_pos, marker='d', color='red',label=\"Actual Value (Tap Water)\")\n",
    "\n",
    "ax.legend(\n",
    "    loc=\"center left\",\n",
    "    bbox_to_anchor=(1.02, 0.5),   # push legend outside\n",
    "    borderaxespad=0\n",
    ")\n",
    "# Add title\n",
    "plt.title('Comparison of Results of the Index of Refraction of Unknown Liquid')\n",
    "plt.savefig('results', dpi=300, bbox_inches='tight')\n",
    "plt.show()\n",
    "\n"
   ]
  }
 ],
 "metadata": {
  "kernelspec": {
   "display_name": "Python 3",
   "language": "python",
   "name": "python3"
  },
  "language_info": {
   "codemirror_mode": {
    "name": "ipython",
    "version": 3
   },
   "file_extension": ".py",
   "mimetype": "text/x-python",
   "name": "python",
   "nbconvert_exporter": "python",
   "pygments_lexer": "ipython3",
   "version": "3.13.1"
  }
 },
 "nbformat": 4,
 "nbformat_minor": 5
}
